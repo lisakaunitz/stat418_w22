{
 "cells": [
  {
   "cell_type": "code",
   "execution_count": 1,
   "metadata": {},
   "outputs": [],
   "source": [
    "# imports\n",
    "import pandas as pd\n",
    "import numpy as np\n",
    "import matplotlib.pyplot as plt\n",
    "%matplotlib inline"
   ]
  },
  {
   "cell_type": "code",
   "execution_count": 3,
   "metadata": {},
   "outputs": [
    {
     "data": {
      "text/html": [
       "<div>\n",
       "<style scoped>\n",
       "    .dataframe tbody tr th:only-of-type {\n",
       "        vertical-align: middle;\n",
       "    }\n",
       "\n",
       "    .dataframe tbody tr th {\n",
       "        vertical-align: top;\n",
       "    }\n",
       "\n",
       "    .dataframe thead th {\n",
       "        text-align: right;\n",
       "    }\n",
       "</style>\n",
       "<table border=\"1\" class=\"dataframe\">\n",
       "  <thead>\n",
       "    <tr style=\"text-align: right;\">\n",
       "      <th></th>\n",
       "      <th>movie_title</th>\n",
       "      <th>release_year</th>\n",
       "      <th>genre</th>\n",
       "      <th>average_rating</th>\n",
       "      <th>number_of_votes</th>\n",
       "      <th>plot_description</th>\n",
       "    </tr>\n",
       "  </thead>\n",
       "  <tbody>\n",
       "    <tr>\n",
       "      <th>0</th>\n",
       "      <td>Harakiri</td>\n",
       "      <td>1962</td>\n",
       "      <td>Action,Drama,History</td>\n",
       "      <td>8.7</td>\n",
       "      <td>29900</td>\n",
       "      <td>When a ronin requesting seppuku at a feudal lo...</td>\n",
       "    </tr>\n",
       "    <tr>\n",
       "      <th>1</th>\n",
       "      <td>Trainspotting</td>\n",
       "      <td>1996</td>\n",
       "      <td>Drama</td>\n",
       "      <td>8.1</td>\n",
       "      <td>606949</td>\n",
       "      <td>Renton, deeply immersed in the Edinburgh drug ...</td>\n",
       "    </tr>\n",
       "    <tr>\n",
       "      <th>2</th>\n",
       "      <td>Unforgiven</td>\n",
       "      <td>1992</td>\n",
       "      <td>Drama,Western</td>\n",
       "      <td>8.2</td>\n",
       "      <td>353635</td>\n",
       "      <td>Retired Old West gunslinger William Munny (Cli...</td>\n",
       "    </tr>\n",
       "    <tr>\n",
       "      <th>3</th>\n",
       "      <td>Andrei Rublev</td>\n",
       "      <td>1966</td>\n",
       "      <td>Biography,Drama,History</td>\n",
       "      <td>8.2</td>\n",
       "      <td>41586</td>\n",
       "      <td>The life, times and afflictions of the fifteen...</td>\n",
       "    </tr>\n",
       "    <tr>\n",
       "      <th>4</th>\n",
       "      <td>Hachi: A Dog's Tale</td>\n",
       "      <td>2009</td>\n",
       "      <td>Drama,Family</td>\n",
       "      <td>8.1</td>\n",
       "      <td>234221</td>\n",
       "      <td>A college professor bonds with an abandoned do...</td>\n",
       "    </tr>\n",
       "  </tbody>\n",
       "</table>\n",
       "</div>"
      ],
      "text/plain": [
       "           movie_title  release_year                    genre  average_rating  \\\n",
       "0             Harakiri          1962     Action,Drama,History             8.7   \n",
       "1        Trainspotting          1996                    Drama             8.1   \n",
       "2           Unforgiven          1992            Drama,Western             8.2   \n",
       "3        Andrei Rublev          1966  Biography,Drama,History             8.2   \n",
       "4  Hachi: A Dog's Tale          2009             Drama,Family             8.1   \n",
       "\n",
       "   number_of_votes                                   plot_description  \n",
       "0            29900  When a ronin requesting seppuku at a feudal lo...  \n",
       "1           606949  Renton, deeply immersed in the Edinburgh drug ...  \n",
       "2           353635  Retired Old West gunslinger William Munny (Cli...  \n",
       "3            41586  The life, times and afflictions of the fifteen...  \n",
       "4           234221  A college professor bonds with an abandoned do...  "
      ]
     },
     "execution_count": 3,
     "metadata": {},
     "output_type": "execute_result"
    }
   ],
   "source": [
    "# data\n",
    "df = pd.read_csv('~/Desktop/STAT_418/stat418_w22/hw2/q2/movies.csv').reset_index(drop = True)\n",
    "\n",
    "df = df.rename(columns = {\"title\": \"movie_title\",\n",
    "                          \"year\":\"release_year\",\n",
    "                          \"genre\":\"genre\",\n",
    "                          \"rating\":\"average_rating\",\n",
    "                          \"numvotes\":\"number_of_votes\",\n",
    "                          \"plot\" : \"plot_description\"\n",
    "                           })\n",
    "\n",
    "df.head()"
   ]
  },
  {
   "cell_type": "code",
   "execution_count": 8,
   "metadata": {},
   "outputs": [],
   "source": [
    "# For each release year: \n",
    "    # Count of movies\n",
    "    # average rating\n",
    "    # standard error\n",
    "    # confidence interval\n",
    "agg = df.groupby('release_year').agg({'movie_title':'count', 'average_rating':'mean'}).reset_index()\n",
    "sigma = 1 # assumed in instructions\n",
    "agg.loc[:,'standard_error'] = sigma / np.sqrt(agg['movie_title'])\n",
    "agg.loc[:,'conf_int'] = 1.96 * agg['standard_error']"
   ]
  },
  {
   "cell_type": "code",
   "execution_count": 17,
   "metadata": {},
   "outputs": [
    {
     "data": {
      "image/png": "[encoded data removed]",
      "text/plain": [
       "<Figure size 864x360 with 1 Axes>"
      ]
     },
     "metadata": {
      "needs_background": "light"
     },
     "output_type": "display_data"
    }
   ],
   "source": [
    "# config\n",
    "fig, ax = plt.subplots(figsize=(12,5))\n",
    "# plotting\n",
    "ax.bar(x=agg['release_year'], height=agg['movie_title'])\n",
    "ax.scatter(x=agg['release_year'], y=agg['average_rating'])\n",
    "ax.errorbar(x=agg['release_year'], y=agg['average_rating'], yerr=[agg['conf_int'], agg['conf_int']], linestyle = 'None')\n",
    "plt.grid(True, which='both')\n",
    "plt.title(\"Movies Plot\")\n",
    "# save ~ export\n",
    "plt.savefig(\"q4_plot_movie.png\")\n",
    "plt.show()"
   ]
  }
 ],
 "metadata": {
  "kernelspec": {
   "display_name": "Python 3",
   "language": "python",
   "name": "python3"
  },
  "language_info": {
   "codemirror_mode": {
    "name": "ipython",
    "version": 3
   },
   "file_extension": ".py",
   "mimetype": "text/x-python",
   "name": "python",
   "nbconvert_exporter": "python",
   "pygments_lexer": "ipython3",
   "version": "3.8.5"
  }
 },
 "nbformat": 4,
 "nbformat_minor": 4
}
